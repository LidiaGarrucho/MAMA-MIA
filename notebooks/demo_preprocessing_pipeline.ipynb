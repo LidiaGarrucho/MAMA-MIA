{
 "cells": [
  {
   "cell_type": "markdown",
   "metadata": {},
   "source": [
    "## MRI Preprocessing Methods"
   ]
  },
  {
   "cell_type": "markdown",
   "metadata": {},
   "source": [
    "### Preprocessing Considerations for DCE-MRI\n",
    "In DCE-MRI, the dynamic nature of contrast agent distribution makes traditional normalization methods less suitable. Focus on maintaining the integrity of the time-resolved data and consider methods that preserve the clinical relevance of intensity variations related to contrast enhancement. Whenever possible, evaluate the impact of any preprocessing step on your specific analysis goals and ensure that the normalization techniques align with the objectives of your study.\n",
    "\n",
    "### Recommended MRI Preprocessing Steps\n",
    "\n",
    "1. **N4 Bias Correction** (Optional)  \n",
    "   Corrects for intensity inhomogeneities and biases, which can enhance the accuracy of subsequent analyses.\n",
    "   > **Important Note**: In DCE-MRI, bias correction can inadvertently alter the appearance of contrast-enhanced regions. To mitigate this, many DCE-MRI protocols use N4 Bias Correction cautiously, applying it to baseline images before the contrast agent is introduced or using region-specific adjustments that preserve contrast dynamics where needed.\n",
    "\n",
    "2. **Denoising** (Optional)  \n",
    "   NLMeans is a non-linear filter that averages similar patches throughout the image, allowing it to selectively reduce noise without sacrificing edges and subtle intensity variations. Applying denoising can improve image quality but should be done carefully, especially if it follows normalization or histogram equalization. In such cases, it may inadvertently amplify noise or artifacts introduced in previous steps.\n",
    "\n",
    "   > **Note**: If applied after normalization or histogram equalization, denoising can sometimes amplify noise, especially if these steps have introduced artifacts.\n",
    "\n",
    "3. **Intensity Clipping** to Percentile Range (Optional, use with caution)  \n",
    "   Clipping intensity values to a defined percentile range can help reduce outliers, though it may not always be necessary.\n",
    "\n",
    "4. **Normalization (Z-score)** (Optional; **Not recommended for DCE-MRI**)  \n",
    "   Z-score normalization is typically discouraged for DCE-MRI data due to its potential to obscure dynamic intensity changes that are clinically relevant.\n",
    "\n",
    "5. **Histogram Equalization** (Optional; **Not recommended for DCE-MRI**)  \n",
    "   Histogram equalization may distort the intensity distribution and is generally avoided in DCE-MRI studies. If necessary, consider region-specific techniques.\n",
    "\n",
    "   > **Note**: Performing histogram equalization before normalization may lead to data distortions, potentially impacting statistical analyses.\n",
    "\n",
    "6. **Resampling** (Recommended)  \n",
    "   Resampling to a consistent voxel size can help standardize the data, making comparisons more reliable across images."
   ]
  },
  {
   "cell_type": "code",
   "execution_count": null,
   "metadata": {},
   "outputs": [],
   "source": [
    "# Load preprocessing and visualization methods\n",
    "import sys\n",
    "sys.path.append('..')  # Add the parent directory to the path\n",
    "from src.visualization import interactive_plot_mri_preprocessing, interactive_plot_mri_and_segmentation\n",
    "from src.preprocessing import *"
   ]
  },
  {
   "cell_type": "code",
   "execution_count": 2,
   "metadata": {},
   "outputs": [],
   "source": [
    "# Define the dataset paths and folders (adjust path if necessary)\n",
    "dataset_path = '/datasets/mama_mia_dataset'\n",
    "images_folder = dataset_path + '/images'\n",
    "expert_segmentations = dataset_path + '/segmentations/expert'\n",
    "\n",
    "# Select a random patient to visualize the segmentation\n",
    "patient_id = 'DUKE_001' #'ISPY1_1001' # 'DUKE_001'\n",
    "# Load the first post-contrast MRI image (phase=1) for demo purposes\n",
    "phase_1_sitk = read_mri_phase_from_patient_id(images_folder, patient_id, phase=1)"
   ]
  },
  {
   "cell_type": "code",
   "execution_count": 3,
   "metadata": {},
   "outputs": [
    {
     "data": {
      "application/vnd.jupyter.widget-view+json": {
       "model_id": "0e63b721ebf84be5abe245efaab04bdb",
       "version_major": 2,
       "version_minor": 0
      },
      "text/plain": [
       "interactive(children=(IntSlider(value=80, description='slicer_1', max=159), IntSlider(value=224, description='…"
      ]
     },
     "metadata": {},
     "output_type": "display_data"
    }
   ],
   "source": [
    "# 1. Bias field correction\n",
    "# Bias field correction is a slow process, the process can be accelerated by setting the shrink_factor to a higher value (e.g. 2)\n",
    "bias_corrected_sitk = bias_correction_sitk(phase_1_sitk, otsu_threshold=True, shrink_factor=4)\n",
    "\n",
    "interactive_plot_mri_preprocessing(phase_1_sitk, bias_corrected_sitk, patient_id, preprocessing_method='Bias Field Correction', figsize=(10, 5))"
   ]
  },
  {
   "cell_type": "code",
   "execution_count": 4,
   "metadata": {},
   "outputs": [
    {
     "data": {
      "application/vnd.jupyter.widget-view+json": {
       "model_id": "22152189ceff4d2cbb069c085d35f067",
       "version_major": 2,
       "version_minor": 0
      },
      "text/plain": [
       "interactive(children=(IntSlider(value=80, description='slicer_1', max=159), IntSlider(value=224, description='…"
      ]
     },
     "metadata": {},
     "output_type": "display_data"
    }
   ],
   "source": [
    "# 2. NLMeans Denoising\n",
    "denoised_sitk = nlmeans_denoise_sitk(bias_corrected_sitk, patch_size=5, patch_distance=6, h=0.8)\n",
    "\n",
    "interactive_plot_mri_preprocessing(bias_corrected_sitk, denoised_sitk, patient_id, preprocessing_method='NLMeans Denoising', figsize=(10, 5))"
   ]
  },
  {
   "cell_type": "code",
   "execution_count": 5,
   "metadata": {},
   "outputs": [
    {
     "data": {
      "application/vnd.jupyter.widget-view+json": {
       "model_id": "f75dcd0dde8f46e1890d2740402b5af4",
       "version_major": 2,
       "version_minor": 0
      },
      "text/plain": [
       "interactive(children=(IntSlider(value=80, description='slicer_1', max=159), IntSlider(value=224, description='…"
      ]
     },
     "metadata": {},
     "output_type": "display_data"
    }
   ],
   "source": [
    "# 3. Intensity Clipping to Percentile Range (Note: This step is optional and can be skipped)\n",
    "clipped_sitk = clip_image_sitk(denoised_sitk, percentiles=[0.1, 99.9])\n",
    "\n",
    "interactive_plot_mri_preprocessing(denoised_sitk, clipped_sitk, patient_id, preprocessing_method='Intensity Clipping', figsize=(10, 5))"
   ]
  },
  {
   "cell_type": "code",
   "execution_count": 6,
   "metadata": {},
   "outputs": [
    {
     "data": {
      "application/vnd.jupyter.widget-view+json": {
       "model_id": "9ef443716e234e98bb443bf7452ae4bd",
       "version_major": 2,
       "version_minor": 0
      },
      "text/plain": [
       "interactive(children=(IntSlider(value=80, description='slicer_1', max=159), IntSlider(value=224, description='…"
      ]
     },
     "metadata": {},
     "output_type": "display_data"
    }
   ],
   "source": [
    "#4. Normalization (Z-score)\n",
    "# In DCE-MRI it is recommended to normalize each phase taking into account the mean and standard deviation of all the phases in the DCE-MRI sequence\n",
    "\n",
    "# For demo purposes, we will use the mean and standard deviation of the current phase\n",
    "LabelFilter = sitk.StatisticsImageFilter()\n",
    "LabelFilter.Execute(clipped_sitk)\n",
    "mean = LabelFilter.GetMean()\n",
    "std = LabelFilter.GetSigma()\n",
    "normalized_stik = zscore_normalization_sitk(denoised_sitk, mean, std)\n",
    "\n",
    "interactive_plot_mri_preprocessing(denoised_sitk, normalized_stik, patient_id, preprocessing_method='Normalization (Z-score)', figsize=(10, 5))"
   ]
  },
  {
   "cell_type": "code",
   "execution_count": 7,
   "metadata": {},
   "outputs": [
    {
     "data": {
      "application/vnd.jupyter.widget-view+json": {
       "model_id": "6df75926de184a2eb7306bb3a1d0de3f",
       "version_major": 2,
       "version_minor": 0
      },
      "text/plain": [
       "interactive(children=(IntSlider(value=80, description='slicer_1', max=159), IntSlider(value=224, description='…"
      ]
     },
     "metadata": {},
     "output_type": "display_data"
    }
   ],
   "source": [
    "#5. Histogram Equalization (Not recommended for DCE-MRI, only for visualization purposes)\n",
    "# particularly for DCE-MRI, you need parameters that enhance local contrast without introducing excessive noise or artifacts.\n",
    "hist_equalized_sitk = histogram_equalization_sitk(normalized_stik, alpha=0.4, beta=0.5, radius=10)\n",
    "\n",
    "interactive_plot_mri_preprocessing(normalized_stik, hist_equalized_sitk, patient_id, preprocessing_method='Histogram equalization', figsize=(10, 5))"
   ]
  },
  {
   "cell_type": "code",
   "execution_count": 8,
   "metadata": {},
   "outputs": [
    {
     "name": "stdout",
     "output_type": "stream",
     "text": [
      "Original image size: (448, 448, 160)\n",
      "Resampled image size: (360, 360, 176)\n"
     ]
    },
    {
     "data": {
      "application/vnd.jupyter.widget-view+json": {
       "model_id": "202d989efa4e459ab1d4fa25a033ea33",
       "version_major": 2,
       "version_minor": 0
      },
      "text/plain": [
       "interactive(children=(IntSlider(value=80, description='slicer_1', max=159), IntSlider(value=180, description='…"
      ]
     },
     "metadata": {},
     "output_type": "display_data"
    }
   ],
   "source": [
    "#6. Resampling (Recommended for DCE-MRI)\n",
    "# Resampling is recommended to ensure that all the images have the same resolution and voxel size (e.g. 1x1x1 mm)\n",
    "\n",
    "resampled_sitk = resample_sitk(normalized_stik, new_spacing=[1, 1, 1], interpolator=sitk.sitkBSpline)\n",
    "# After resampling, the resampled images have a different size\n",
    "print('Original image size:', normalized_stik.GetSize())\n",
    "print('Resampled image size:', resampled_sitk.GetSize())\n",
    "\n",
    "# We will display the original and resampled images side by side (the maximum slice showed if the maximum size before resmapling):\n",
    "interactive_plot_mri_preprocessing(normalized_stik, resampled_sitk, patient_id, preprocessing_method='Isotropic Resampling', figsize=(10, 5))"
   ]
  },
  {
   "cell_type": "code",
   "execution_count": null,
   "metadata": {},
   "outputs": [
    {
     "ename": "NameError",
     "evalue": "name 'interactive_plot_mri_and_segmentation' is not defined",
     "output_type": "error",
     "traceback": [
      "\u001b[0;31m---------------------------------------------------------------------------\u001b[0m",
      "\u001b[0;31mNameError\u001b[0m                                 Traceback (most recent call last)",
      "Cell \u001b[0;32mIn[9], line 8\u001b[0m\n\u001b[1;32m      5\u001b[0m resampled_expert_segmentation_sitk \u001b[38;5;241m=\u001b[39m resample_sitk(expert_segmentation_sitk, new_spacing\u001b[38;5;241m=\u001b[39m[\u001b[38;5;241m1\u001b[39m, \u001b[38;5;241m1\u001b[39m, \u001b[38;5;241m1\u001b[39m], interpolator\u001b[38;5;241m=\u001b[39msitk\u001b[38;5;241m.\u001b[39msitkNearestNeighbor)\n\u001b[1;32m      7\u001b[0m \u001b[38;5;66;03m# Display the preprocessed MRI image and expert segmentation\u001b[39;00m\n\u001b[0;32m----> 8\u001b[0m \u001b[43minteractive_plot_mri_and_segmentation\u001b[49m(resampled_sitk, resampled_expert_segmentation_sitk, patient_id, figsize\u001b[38;5;241m=\u001b[39m(\u001b[38;5;241m15\u001b[39m, \u001b[38;5;241m5\u001b[39m))\n",
      "\u001b[0;31mNameError\u001b[0m: name 'interactive_plot_mri_and_segmentation' is not defined"
     ]
    }
   ],
   "source": [
    "# If resampling is applied, the segmentations should be resampled as well\n",
    "expert_segmentation_sitk = read_segmentation_from_patient_id(expert_segmentations, patient_id)\n",
    "\n",
    "# Important: use the Nearest Neighbor interpolation to avoid introducing new labels\n",
    "resampled_expert_segmentation_sitk = resample_sitk(expert_segmentation_sitk, new_spacing=[1, 1, 1], interpolator=sitk.sitkNearestNeighbor)\n",
    "\n",
    "from src.visualization import interactive_plot_mri_and_segmentation\n",
    "# Display the preprocessed MRI image and expert segmentation\n",
    "interactive_plot_mri_and_segmentation(resampled_sitk, resampled_expert_segmentation_sitk, patient_id, figsize=(15, 5))"
   ]
  }
 ],
 "metadata": {
  "kernelspec": {
   "display_name": "mamamia",
   "language": "python",
   "name": "python3"
  },
  "language_info": {
   "codemirror_mode": {
    "name": "ipython",
    "version": 3
   },
   "file_extension": ".py",
   "mimetype": "text/x-python",
   "name": "python",
   "nbconvert_exporter": "python",
   "pygments_lexer": "ipython3",
   "version": "3.13.0"
  }
 },
 "nbformat": 4,
 "nbformat_minor": 2
}
